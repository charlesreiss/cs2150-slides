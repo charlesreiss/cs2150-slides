{
 "cells": [
  {
   "cell_type": "code",
   "execution_count": 1,
   "metadata": {
    "collapsed": false
   },
   "outputs": [
    {
     "name": "stdout",
     "output_type": "stream",
     "text": [
      "Populating the interactive namespace from numpy and matplotlib\n"
     ]
    }
   ],
   "source": [
    "%pylab inline"
   ]
  },
  {
   "cell_type": "code",
   "execution_count": 2,
   "metadata": {
    "collapsed": true
   },
   "outputs": [],
   "source": [
    "import pandas as pd"
   ]
  },
  {
   "cell_type": "code",
   "execution_count": 3,
   "metadata": {
    "collapsed": false
   },
   "outputs": [],
   "source": [
    "d = pd.read_csv('data6.csv')"
   ]
  },
  {
   "cell_type": "code",
   "execution_count": 7,
   "metadata": {
    "collapsed": false
   },
   "outputs": [
    {
     "data": {
      "text/plain": [
       "<matplotlib.lines.Line2D at 0x7f5d5073a4a8>"
      ]
     },
     "execution_count": 7,
     "metadata": {},
     "output_type": "execute_result"
    },
    {
     "data": {
      "image/png": "[encoded data removed]",
      "text/plain": [
       "<matplotlib.figure.Figure at 0x7f5d506a4198>"
      ]
     },
     "metadata": {},
     "output_type": "display_data"
    }
   ],
   "source": [
    "plt = d.plot(x='size', y='m1',legend=False, kind='scatter', figsize=(5,3))\n",
    "plt.set_xlabel('size in bytes')\n",
    "plt.set_ylabel('cycles/access')\n",
    "plt.set_xscale('log')\n",
    "plt.set_yscale('log')\n",
    "plt.set_ylim(0, 300)\n",
    "plt.set_xlim(1024, 1024 * 1024 * 64)\n",
    "plt.axvspan(0, 32*1024, facecolor='red', alpha=0.1)\n",
    "plt.text(s='fits in L1', x=2.5*10**3, y=100)\n",
    "plt.text(s=\"fits\\nin\\nL2\", x=5*10**4, y=75)\n",
    "plt.text(s=\"fits in L3\", x=10**6/3, y=100)\n",
    "plt.axvspan(32*1024, 128*1024, facecolor='yellow', alpha=0.1)\n",
    "plt.axvspan(128*1024, 4*1024*1024, facecolor='green', alpha=0.1)\n",
    "plt.axvline(8*1024*1024)\n",
    "#gcf().savefig('./size-v-cycles.pdf',transparent=True, bbox_inches='tight')\n",
    "#plt.axvline(4*1024*1024, 128*1024*1024,)\n",
    "#plt.show()"
   ]
  },
  {
   "cell_type": "code",
   "execution_count": null,
   "metadata": {
    "collapsed": true
   },
   "outputs": [],
   "source": []
  }
 ],
 "metadata": {
  "kernelspec": {
   "display_name": "Python 3",
   "language": "python",
   "name": "python3"
  },
  "language_info": {
   "codemirror_mode": {
    "name": "ipython",
    "version": 3
   },
   "file_extension": ".py",
   "mimetype": "text/x-python",
   "name": "python",
   "nbconvert_exporter": "python",
   "pygments_lexer": "ipython3",
   "version": "3.5.2"
  }
 },
 "nbformat": 4,
 "nbformat_minor": 1
}
